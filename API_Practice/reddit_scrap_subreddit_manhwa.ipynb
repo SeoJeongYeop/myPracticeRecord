{
 "cells": [
  {
   "cell_type": "code",
   "execution_count": 1,
   "id": "dfe130f9",
   "metadata": {},
   "outputs": [],
   "source": [
    "import praw\n",
    "import json\n",
    "from datetime import datetime"
   ]
  },
  {
   "cell_type": "code",
   "execution_count": 2,
   "id": "426f92a2",
   "metadata": {},
   "outputs": [],
   "source": [
    "def create_reddit_object(json_file = \"data/reddit_config.json\", json_key = \"reddit\"):\n",
    "    with open(json_file) as f:\n",
    "        data = json.load(f)\n",
    "    user_values = data[json_key]\n",
    "    reddit = praw.Reddit(client_id = user_values['client_id'],\n",
    "                        client_secret=user_values['client_secret'],\n",
    "                        user_agent=user_values['user_agent'],\n",
    "                        username=user_values['username'],\n",
    "                        password=user_values['password'],)\n",
    "    return reddit"
   ]
  },
  {
   "cell_type": "code",
   "execution_count": 3,
   "id": "79aaf702",
   "metadata": {},
   "outputs": [],
   "source": [
    "def write_json(path, data) :\n",
    "    if path[-5:] != \".json\":\n",
    "        path = path +\".json\"\n",
    "    with open(path, 'w', encoding = \"utf-8\") as outfile:\n",
    "        outfile.write(json.dumps(data, ensure_ascii=False))"
   ]
  },
  {
   "cell_type": "code",
   "execution_count": 4,
   "id": "da0e6496",
   "metadata": {},
   "outputs": [],
   "source": [
    "reddit = create_reddit_object()"
   ]
  },
  {
   "cell_type": "code",
   "execution_count": 5,
   "id": "6cc337bd",
   "metadata": {},
   "outputs": [],
   "source": [
    "# hot, new, controv, top, gilded\n",
    "def scrap_subreddit(subreddit, limit):\n",
    "    id = 0\n",
    "    \n",
    "    scrapList = []\n",
    "    \n",
    "    subReddit = reddit.subreddit(subreddit).hot(limit = limit)\n",
    "\n",
    "    for submission in subReddit:\n",
    "        scrapDict = {}\n",
    "        commentList = []\n",
    "        id += 1\n",
    "        scrapDict[\"id\"] = id\n",
    "        scrapDict[\"title\"] = submission.title\n",
    "        date = datetime.fromtimestamp(submission.created_utc)\n",
    "        scrapDict[\"date\"] = str(date)\n",
    "        for top_level_comment in submission.comments:\n",
    "            commentList.append(top_level_comment.body.strip())\n",
    "\n",
    "        scrapDict[\"comments\"] = commentList\n",
    "        if (id*100 // limit) % 20  == 0 :\n",
    "            print(id*100 // limit,\"%...\")\n",
    "        scrapList.append(scrapDict)\n",
    "    print(\"Done!\")\n",
    "    return scrapList"
   ]
  },
  {
   "cell_type": "code",
   "execution_count": 6,
   "id": "5676446b",
   "metadata": {},
   "outputs": [
    {
     "name": "stdout",
     "output_type": "stream",
     "text": [
      "20 %...\n",
      "40 %...\n",
      "60 %...\n",
      "80 %...\n",
      "100 %...\n",
      "Done!\n"
     ]
    }
   ],
   "source": [
    "data = scrap_subreddit(subreddit = \"manhwa\", limit = 5)"
   ]
  },
  {
   "cell_type": "code",
   "execution_count": 7,
   "id": "8d155b0f",
   "metadata": {},
   "outputs": [],
   "source": [
    "write_json(path = \"redditWebtoon.json\", data = data)"
   ]
  },
  {
   "cell_type": "code",
   "execution_count": 8,
   "id": "8477d161",
   "metadata": {},
   "outputs": [
    {
     "name": "stdout",
     "output_type": "stream",
     "text": [
      "[{'id': 1, 'title': 'New Manhwa discord!', 'date': '2021-05-30 08:37:21', 'comments': ['Is there another season about the  ( I save female assassin) ?', 'Huh, was there an old one?']}, {'id': 2, 'title': 'PSA: Any post that has spoilers in the title or shows an image that is a spoiler without the spoiler tag will result in the post being taken down and result in a ban. Please report posts with spoilers so we can address them.', 'date': '2021-04-25 15:35:34', 'comments': []}, {'id': 3, 'title': 'Which ship is your favorite?', 'date': '2021-07-07 14:35:44', 'comments': ['TBATE ship actually has a story. Whereas in Solo, \"You smell good, I wanna bang.\"', 'Sauce - Solo Leveling, Tbate, Unordinary', 'Unpopular opinion. None of them :v', \"Unordinary's art looks so weird when compared to the other two 💀💀\", \"Tbae\\n\\n\\n\\nAlso i think tbae is much better than solo leveling, i don't know how good it is compared to other manhwas but for a power-fantasy it's pretty darn good.\", 'Man as a TBATE novel reader art and Tess looking like that rn is crazy to me', 'Seraphina is top tier', 'My favorites are both the Solo Leveling and TBATE ships.', 'is unordinary eve worth reading anymore?', \"None of them, they're all action mahwas, so the romance honestly doesn't fit, it feels rushed as heck and it's just not suitable.\\n\\nSangwoo is cold af and doesn't display any feelings for her, which is a big NO in maintaining a healthy relationship.\\n\\nJohn is pretty much mentally ill, even though their relationship was cute at the beginning, ever since he slapped her imagining her as that green haired girl, I stopped liking the ship, plus the fact that he called her a bitch, if they get together then it'll most likely turn out to be an abusive relationship, so I absolutely do not support it.\\n\\nAs for tbate, first off, Arthur is YEARS older than Tess, he even called himself a pedophile for liking her multiple times (in the novel, dunno if it reached that point in the manhwa), plus the fact that he's keeping too much secrets from her, and treating her like a child (which she is.)\\n\\nI find them all to be really good manhwas, but they should stick with action, romance isn't really their thing.\", 'I think solo leveling ship is going good so far', 'This is gonna sound crazy. But two of these ships are the girls wanting to bang the guys. So I am gonna chose unordinary.', 'Sera x John, or Jeraphina is best.  Still mulling over Tbate, and if we only go by the webtoon Solo Leveling has been weak sauce on the Chae x Jinwoo ship.', 'There’s no waifu in SL', 'It\\'s unfortunate that unordinary dragged out for so long the \"villain\" arc, I probably like tbate more', 'TBATE', 'Arthur x tessia', 'Does unordinary get better? I waited like 150(?) Chapters for MC to change but he was such an asshole I ended up dropping the series. Shame since I liked the art and world building...', 'Has the mc from unordinary get treated yet the last time I read it , he was still mentality unstable', 'Third pic sauce???', 'Some ships must burn.', 'SOLO LEVELING', 'uss minnesota', 'Sauce of pink hair', 'Thor-Kobayashi', 'John and sera :D', 'I wanna say Tess and Art but John and Sera though.....', 'From best to worst ship\\n1. Unordinary\\n2. The beginning after the end\\n3. Solo levelling', 'I prefer Sung Jin-Woo after reading TBATE novel it is suck.']}, {'id': 4, 'title': \"When you're the greatest awaken of all but you look like this:.\", 'date': '2021-07-07 01:41:19', 'comments': ['You may not like it but this is what peak physical performance looks like. This is the ideal male body.', 'Loading kitty punch for anyone who downvotes this', 'Sauce: Eleceed', 'Never look down on the great kaiden', \"At least he doesn't have a clipped ear\", 'Ahh I love kitty Kaden!', 'Strongest kitty in the kitty game rn', 'HAIL GREAT KAYDEN', \"All these people commenting Kaiden/Kayden/Kaden. They clearly didn't read the manhwa cause this cat is Casein Nitrate.\", 'can relate']}, {'id': 5, 'title': 'Someone please look at the news text bubbles. I totally lost it lmao.', 'date': '2021-07-07 12:46:21', 'comments': ['OhO', 'Sauce?', \"I can't believe I didn't realize earlier 😔 all the signs pointed at them being a duck... Don't trust everything you see, folks\"]}]\n"
     ]
    }
   ],
   "source": [
    "print(data)"
   ]
  },
  {
   "cell_type": "code",
   "execution_count": 9,
   "id": "d2a57cd5",
   "metadata": {},
   "outputs": [],
   "source": [
    "import pandas as pd\n",
    "df = pd.read_json('redditWebtoon.json', orient = 'record', encoding = 'utf-8')"
   ]
  },
  {
   "cell_type": "code",
   "execution_count": 10,
   "id": "766f3bf5",
   "metadata": {},
   "outputs": [
    {
     "data": {
      "text/html": [
       "<div>\n",
       "<style scoped>\n",
       "    .dataframe tbody tr th:only-of-type {\n",
       "        vertical-align: middle;\n",
       "    }\n",
       "\n",
       "    .dataframe tbody tr th {\n",
       "        vertical-align: top;\n",
       "    }\n",
       "\n",
       "    .dataframe thead th {\n",
       "        text-align: right;\n",
       "    }\n",
       "</style>\n",
       "<table border=\"1\" class=\"dataframe\">\n",
       "  <thead>\n",
       "    <tr style=\"text-align: right;\">\n",
       "      <th></th>\n",
       "      <th>id</th>\n",
       "      <th>title</th>\n",
       "      <th>date</th>\n",
       "      <th>comments</th>\n",
       "    </tr>\n",
       "  </thead>\n",
       "  <tbody>\n",
       "    <tr>\n",
       "      <th>0</th>\n",
       "      <td>1</td>\n",
       "      <td>New Manhwa discord!</td>\n",
       "      <td>2021-05-30 08:37:21</td>\n",
       "      <td>[Is there another season about the  ( I save f...</td>\n",
       "    </tr>\n",
       "    <tr>\n",
       "      <th>1</th>\n",
       "      <td>2</td>\n",
       "      <td>PSA: Any post that has spoilers in the title o...</td>\n",
       "      <td>2021-04-25 15:35:34</td>\n",
       "      <td>[]</td>\n",
       "    </tr>\n",
       "  </tbody>\n",
       "</table>\n",
       "</div>"
      ],
      "text/plain": [
       "   id                                              title                date  \\\n",
       "0   1                                New Manhwa discord! 2021-05-30 08:37:21   \n",
       "1   2  PSA: Any post that has spoilers in the title o... 2021-04-25 15:35:34   \n",
       "\n",
       "                                            comments  \n",
       "0  [Is there another season about the  ( I save f...  \n",
       "1                                                 []  "
      ]
     },
     "execution_count": 10,
     "metadata": {},
     "output_type": "execute_result"
    }
   ],
   "source": [
    "df[:2]"
   ]
  },
  {
   "cell_type": "code",
   "execution_count": null,
   "id": "bbe84a5a",
   "metadata": {},
   "outputs": [],
   "source": []
  }
 ],
 "metadata": {
  "kernelspec": {
   "display_name": "Python 3",
   "language": "python",
   "name": "python3"
  },
  "language_info": {
   "codemirror_mode": {
    "name": "ipython",
    "version": 3
   },
   "file_extension": ".py",
   "mimetype": "text/x-python",
   "name": "python",
   "nbconvert_exporter": "python",
   "pygments_lexer": "ipython3",
   "version": "3.8.10"
  }
 },
 "nbformat": 4,
 "nbformat_minor": 5
}
