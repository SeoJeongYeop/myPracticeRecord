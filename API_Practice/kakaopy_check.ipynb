{
 "cells": [
  {
   "cell_type": "code",
   "execution_count": 1,
   "id": "b12f6979",
   "metadata": {},
   "outputs": [
    {
     "name": "stdout",
     "output_type": "stream",
     "text": [
      "Collecting kakaopy\n",
      "  Using cached kakaopy-0.2.0-py3-none-any.whl (4.3 kB)\n",
      "Installing collected packages: kakaopy\n",
      "Successfully installed kakaopy-0.2.0\n"
     ]
    }
   ],
   "source": [
    "## https://pypi.org/project/kakaopy/\n",
    "!pip install kakaopy"
   ]
  },
  {
   "cell_type": "code",
   "execution_count": 2,
   "id": "00449334",
   "metadata": {},
   "outputs": [],
   "source": [
    "from kakaopy import kakaopy\n",
    "kakaopy.setHeader('YOUR_REST_API_KEY')"
   ]
  },
  {
   "cell_type": "code",
   "execution_count": 3,
   "id": "e0ab015b",
   "metadata": {},
   "outputs": [
    {
     "name": "stdout",
     "output_type": "stream",
     "text": [
      "setSort(sort): sort must be accuracy or recency in doc.\n",
      "setPage(page): 1 <= page <= 50 in doc.\n",
      "setSize(size): 1 <= size <= 50 in doc.\n",
      "setData(sort, page, size): Set at once\n",
      "search(query): Return search results in the form of json.\n",
      "save(query, path): Save the search results as a json file. The 'path' is the file name or path to the file.\n"
     ]
    }
   ],
   "source": [
    "doc1 = kakaopy.doc()\n",
    "doc1.help()"
   ]
  },
  {
   "cell_type": "code",
   "execution_count": 4,
   "id": "1848c891",
   "metadata": {},
   "outputs": [],
   "source": [
    "doc1.setSort(\"recency\")"
   ]
  },
  {
   "cell_type": "code",
   "execution_count": 5,
   "id": "ff529686",
   "metadata": {},
   "outputs": [
    {
     "data": {
      "text/plain": [
       "{'documents': [{'contents': 'def __init__(self): super().__init__() self.setGeometry(200, 200, 400, 300) self.setWindowTitle(&#34;<b>Python</b> and Matplotlib&#34;) self.create_list() self.myUI() #chart = Canvas(self) def create_list(self...',\n",
       "   'datetime': '2021-06-30T21:06:51.000+09:00',\n",
       "   'title': 'Embed Matplotlib Graph in a PyQt5',\n",
       "   'url': 'https://stackoverflow.com/questions/68191286/embed-matplotlib-graph-in-a-pyqt5'},\n",
       "  {'contents': 'form[&#39;nm&#39;] return test.pri(int(val)) if __name__ == &#39;__main__&#39;: app.run(debug=True) and this is the <b>python</b> program: import time def pri(n): for i in range(1,n): return str(i) sorry for asking a...',\n",
       "   'datetime': '2021-06-30T21:06:51.000+09:00',\n",
       "   'title': 'i am very new to flask and i am trying to write a test program that displays numbers in the range...',\n",
       "   'url': 'https://stackoverflow.com/questions/68194425/i-am-very-new-to-flask-and-i-am-trying-to-write-a-test-program-that-displays-num'},\n",
       "  {'contents': '영업, 자동화설비영업, 영업관리, 영업기획, 택배·물류, 택배·운송, 웹프로그래머, Java, MS-SQL, <b>Python</b>, SQL, 응용프로그래머, Java, Linux, Oracle, 유지보수, 펌웨어, 하드웨어, 소프트웨어, 안전, 설비...',\n",
       "   'datetime': '2021-06-30T21:06:43.000+09:00',\n",
       "   'title': '경남 채용정보 | 잡코리아',\n",
       "   'url': 'https://www.jobkorea.co.kr/Recruit/JobList?menucode=local&local=C000&industry=1000052'},\n",
       "  {'contents': 'AWS SDK for Go AWS SDK for Java AWS SDK for JavaScript in Node.js AWS SDK for PHP AWS SDK for <b>Python</b> AWS Toolkit for Eclipse AWS Tools for PowerShell AWS X-Ray Filter Filter Close Apply Filters...',\n",
       "   'datetime': '2021-06-30T20:57:35.000+09:00',\n",
       "   'title': 'AWS Blog',\n",
       "   'url': 'https://aws.amazon.com/blogs/'},\n",
       "  {'contents': 'Milestones 2017 Robust Adversarial Inputs July 17, 2017 Research 2017 Faster Physics in <b>Python</b> June 28, 2017 Research 2017 Learning from Human Preferences June 13, 2017 Research 2017 Learning to...',\n",
       "   'datetime': '2021-06-30T20:53:58.000+09:00',\n",
       "   'title': 'OpenAI Blog',\n",
       "   'url': 'https://openai.com/blog/'},\n",
       "  {'contents': '최대 90% 저렴합니다). CodeGuru Reviewer는 AWS 관리 콘솔, AWS SDK, AWS CLI를 사용하여 Java 및 <b>Python</b> 애플리케이션에서 찾기 어려운 잠재적 결함과 버그를 감지할 수 있도록 지원합니다. 오늘 저는...',\n",
       "   'datetime': '2021-06-30T20:49:59.000+09:00',\n",
       "   'title': 'Amazon EMR on EKS, Apache Spark 애플리케이션을 위한 컨테이너 종속성 맞춤 조정 및 패키징 기능 출시...',\n",
       "   'url': 'https://aws.amazon.com/ko/blogs/korea/'},\n",
       "  {'contents': 'monica ㈜핀커스코리아 외국계 기업 - 자동차 [외국계자동차 ] Data Analyst 포지션 채용 자동차, <b>Python</b>, 빅데이터, 딥러닝, R, 데이터분석 경력3년↑ 서울 &gt; 서울전지역 05/31(월) 등록 monica ㈜핀커스코리아...',\n",
       "   'datetime': '2021-06-30T20:39:44.000+09:00',\n",
       "   'title': '외국계 기업 : [외국계 자동차] Office Admin 채용 | 잡코리아 헤드헌팅',\n",
       "   'url': 'https://www.jobkorea.co.kr/Recruit/GI_Read/34851328?Oem_Code=S98'},\n",
       "  {'contents': 'early &#39;90s. Other aspects of the design are more evocative of New Yorker caricatures or Monty <b>Python</b>. Getting around can be tricky. Move a balloon to the center of the screen and click just once on...',\n",
       "   'datetime': '2021-06-30T20:37:52.000+09:00',\n",
       "   'title': 'The Chimerist',\n",
       "   'url': 'https://thechimerist.com/#_=_'},\n",
       "  {'contents': '하게 되는지 함께 설명해주시면 좋을 것 같습니다. 채용공고에도 적혀있는 부분이지만, 기본적으로 <b>Python</b> 기반 PyTorch 프레임 워크 기반의 개발을 하고 있기 때문에 해당 스킬이 능숙하신 분들을 원하고 있어요...',\n",
       "   'datetime': '2021-06-30T20:30:59.000+09:00',\n",
       "   'title': '7건 기업리뷰, 8건 연봉정보, 2건 면접후기, 30건 복지정보, 26건 채용공고',\n",
       "   'url': 'https://www.jobplanet.co.kr/companies/331926/landing/%EB%85%B8%EC%9D%84'},\n",
       "  {'contents': 'Reactions 6 reactions Comments Add Comment 2 min read Save Saved Do debugging like a pro in <b>python</b> -_&lt; DIVYANSHU RAJ Jun 24 Do debugging like a pro in <b>python</b> -_&lt; #<b>python</b> #debugging #productivity...',\n",
       "   'datetime': '2021-06-30T20:22:37.000+09:00',\n",
       "   'title': '# developer',\n",
       "   'url': 'https://dev.to/t/developer'}],\n",
       " 'meta': {'is_end': False, 'pageable_count': 624, 'total_count': 6846908}}"
      ]
     },
     "execution_count": 5,
     "metadata": {},
     "output_type": "execute_result"
    }
   ],
   "source": [
    "doc1.search(\"python\")"
   ]
  },
  {
   "cell_type": "code",
   "execution_count": 6,
   "id": "dc7f5aaf",
   "metadata": {},
   "outputs": [
    {
     "name": "stdout",
     "output_type": "stream",
     "text": [
      "saved!\n"
     ]
    }
   ],
   "source": [
    "doc1.save(query = \"web crawling\", path = \"data/web.json\")"
   ]
  },
  {
   "cell_type": "code",
   "execution_count": 9,
   "id": "292a573b",
   "metadata": {},
   "outputs": [],
   "source": [
    "import json\n",
    "with open('data/web.json', encoding='utf-8') as jsonFile:\n",
    "    jsonData = json.load(jsonFile)"
   ]
  },
  {
   "cell_type": "code",
   "execution_count": 11,
   "id": "7812e85f",
   "metadata": {},
   "outputs": [
    {
     "data": {
      "text/plain": [
       "{'documents': [{'contents': 'a: <b>Crawling</b> the Walls focuses on the frustration of being trapped. It’s a contemplation on the inertia of pacing around a small area as trivial things start to become important and the walls start...',\n",
       "   'datetime': '2021-06-30T18:57:41.000+09:00',\n",
       "   'title': 'Nope Fun',\n",
       "   'url': 'https://nopefun.com/#_=_'},\n",
       "  {'contents': 'right?) <b>crawling</b> with Little Friends weirdness: Little fashion-plate cats and ducks, little fruit and candy-headed guys chilling, an ice cream truck handing out cool treats, etc.-- DUDE, YOUR...',\n",
       "   'datetime': '2021-06-30T18:56:53.000+09:00',\n",
       "   'title': 'The Little Friends of Printmaking Ye Olde Shoppe',\n",
       "   'url': 'http://www.thelittlefriendsofprintmaking.com/oops/'},\n",
       "  {'contents': 'data <b>crawling</b> Benefits Discover all domain names associated with an individual or an organization. Find connections between various domains, individuals and organizations. Search results can be...',\n",
       "   'datetime': '2021-06-30T18:01:21.000+09:00',\n",
       "   'title': 'Reverse WHOIS API calls domains with a registrant detail',\n",
       "   'url': 'https://reverse-whois.whoisxmlapi.com/api'},\n",
       "  {'contents': '이상 (4년) ㆍ나이/성별 : 25세~40세/무관 웹 <b>크롤링</b> 엔진 개발웹개발 0명 담당업무 ㆍ수집 자동화 설계...실무 3년 이상 또는 이에 준하는 역량 보유자 ㆍ<b>WEB</b> / Mobile 기반 응용프로그램 개발 경험 ㆍ개발언어...',\n",
       "   'datetime': '2021-06-30T18:00:59.000+09:00',\n",
       "   'title': '럭셔리 커머스 백엔드 / 웹 <b>크롤링</b> 개발자 채용',\n",
       "   'url': 'https://www.saramin.co.kr/zf_user/jobs/view?rec_idx=40598026'},\n",
       "  {'contents': 'want them to be able to search our locked media documents and therefore we have configured our <b>web</b> crawler to log into the site before <b>crawling</b>. However with the built-in CDN support in Sitecore...',\n",
       "   'datetime': '2021-06-30T17:39:16.000+09:00',\n",
       "   'title': 'The grumpy coder.',\n",
       "   'url': 'https://thegrumpycoder.com/#_=_'},\n",
       "  {'contents': 'and <b>crawling</b> websites. Gem crawls included websites once a day and updates the index with new, changed and removed products. Getting the product details and images correctly requires a bit of...',\n",
       "   'datetime': '2021-06-30T11:11:54.000+09:00',\n",
       "   'title': 'Sampo Karjalainen',\n",
       "   'url': 'https://sampokarjalainen.com/#_=_'},\n",
       "  {'contents': '서식 사용 - 2020/04/01~30 : 3건 : 통계 작성, 설문조사 결과 분석, 네이버 어학사전 번역 Data 수집 - 2020/05/01~31 : 2건 : 공사관리 및 내역 산출 계산 엑셀 매크로, <b>Web</b> Site <b>Crawling</b> 을 이용한 Data 수집',\n",
       "   'datetime': '2021-06-30T10:39:12.000+09:00',\n",
       "   'title': '엑셀 양식/문서 작성 및 엑셀 데이터 조회/관리 개발',\n",
       "   'url': 'https://www.otwojob.com/product/141095516335'},\n",
       "  {'contents': 'conducted <b>crawling</b> and text mining, including &#34;음식관광&#34;. As a result, a total of 33,148 words appeared, and the top 99 words were extracted to identify and visualize the attributes and...',\n",
       "   'datetime': '2021-06-30T10:35:12.000+09:00',\n",
       "   'title': '저자명=김학선',\n",
       "   'url': 'https://www.earticle.net/Search/Result?sf=3&q=%EA%B9%80%ED%95%99%EC%84%A0'},\n",
       "  {'contents': 'responsive <b>web</b> function, but it is regrettable that the compatibility between PC and mobile is not smooth. This study is expected to be used as basic data for related research that needs help in...',\n",
       "   'datetime': '2021-06-30T10:34:38.000+09:00',\n",
       "   'title': 'Volume 8 Number 4 (41)',\n",
       "   'url': 'https://www.earticle.net/Journal/Issues/876/29173'},\n",
       "  {'contents': '자동 <b>크롤링</b> 기술을 바탕으로 하루에 10만건 이상의 상품을 2번 실시간 업데이트하는 데이터 분석 기술을 보유하고 있습니다. 또한 블록체인 기반의 유통이력 데이터 저장 기술은 이미 국내에서도 5건의 특허를...',\n",
       "   'datetime': '2021-06-30T10:00:59.000+09:00',\n",
       "   'title': '서비스 기획자 채용 - 스타트업/강남/인센/강남',\n",
       "   'url': 'https://www.saramin.co.kr/zf_user/jobs/view?rec_idx=40591385'}],\n",
       " 'meta': {'is_end': False, 'pageable_count': 998, 'total_count': 252427}}"
      ]
     },
     "execution_count": 11,
     "metadata": {},
     "output_type": "execute_result"
    }
   ],
   "source": [
    "jsonData"
   ]
  }
 ],
 "metadata": {
  "kernelspec": {
   "display_name": "Python 3",
   "language": "python",
   "name": "python3"
  },
  "language_info": {
   "codemirror_mode": {
    "name": "ipython",
    "version": 3
   },
   "file_extension": ".py",
   "mimetype": "text/x-python",
   "name": "python",
   "nbconvert_exporter": "python",
   "pygments_lexer": "ipython3",
   "version": "3.8.10"
  }
 },
 "nbformat": 4,
 "nbformat_minor": 5
}
