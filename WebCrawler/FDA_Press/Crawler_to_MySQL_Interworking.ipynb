{
 "cells": [
  {
   "cell_type": "code",
   "execution_count": 1,
   "id": "037c941f",
   "metadata": {},
   "outputs": [],
   "source": [
    "import pymysql"
   ]
  },
  {
   "cell_type": "code",
   "execution_count": 2,
   "id": "7938ef65",
   "metadata": {},
   "outputs": [],
   "source": [
    "# 데이터베이스 연결하기 connect함수\n",
    "fda = pymysql.connect(\n",
    "    user='root', \n",
    "    passwd='{password}', \n",
    "    host='127.0.0.1', \n",
    "    db='fda', \n",
    "    charset='utf8'\n",
    ")"
   ]
  },
  {
   "cell_type": "code",
   "execution_count": 3,
   "id": "62b96553",
   "metadata": {},
   "outputs": [],
   "source": [
    "# 연결한 데이터베이스와 상호작용하기 위해서는 cursor 객체를 생성해야 한다.\n",
    "# 디폴트는 튜플형태로 리턴, DictCursor로 설정하면 dictionary 형태로 리턴한다.\n",
    "cursor = fda.cursor(pymysql.cursors.DictCursor)"
   ]
  },
  {
   "cell_type": "code",
   "execution_count": 4,
   "id": "4453bada",
   "metadata": {},
   "outputs": [],
   "source": [
    "# 데이터베이스 조작은 execute()에 MySQL명령어를 넣어서 조작한다.\n",
    "# 결과는 fetchall() 이나 fetchone()등으로 받아온다.\n",
    "command = \"SELECT * FROM crawlingNews;\"\n",
    "cursor.execute(command)\n",
    "result = cursor.fetchall()"
   ]
  },
  {
   "cell_type": "code",
   "execution_count": 5,
   "id": "563aae50",
   "metadata": {},
   "outputs": [
    {
     "data": {
      "text/html": [
       "<div>\n",
       "<style scoped>\n",
       "    .dataframe tbody tr th:only-of-type {\n",
       "        vertical-align: middle;\n",
       "    }\n",
       "\n",
       "    .dataframe tbody tr th {\n",
       "        vertical-align: top;\n",
       "    }\n",
       "\n",
       "    .dataframe thead th {\n",
       "        text-align: right;\n",
       "    }\n",
       "</style>\n",
       "<table border=\"1\" class=\"dataframe\">\n",
       "  <thead>\n",
       "    <tr style=\"text-align: right;\">\n",
       "      <th></th>\n",
       "      <th>id</th>\n",
       "      <th>title</th>\n",
       "      <th>created</th>\n",
       "      <th>contents</th>\n",
       "    </tr>\n",
       "  </thead>\n",
       "  <tbody>\n",
       "    <tr>\n",
       "      <th>0</th>\n",
       "      <td>1</td>\n",
       "      <td>FDA Provides Update on Ongoing Efforts to Bett...</td>\n",
       "      <td>June 30, 2021</td>\n",
       "      <td>Today, the U.S. Food and Drug Administration ...</td>\n",
       "    </tr>\n",
       "    <tr>\n",
       "      <th>1</th>\n",
       "      <td>2</td>\n",
       "      <td>Coronavirus (COVID-19) Update: July 2, 2021</td>\n",
       "      <td>July 02, 2021</td>\n",
       "      <td>The U.S. Food and Drug Administration (FDA) c...</td>\n",
       "    </tr>\n",
       "    <tr>\n",
       "      <th>2</th>\n",
       "      <td>3</td>\n",
       "      <td>FDA In Brief: FDA Revokes Emergency Use Author...</td>\n",
       "      <td>June 30, 2021</td>\n",
       "      <td>The following quote is attributed to Suzanne ...</td>\n",
       "    </tr>\n",
       "    <tr>\n",
       "      <th>3</th>\n",
       "      <td>4</td>\n",
       "      <td>FDA Approves Component of Treatment Regimen fo...</td>\n",
       "      <td>June 30, 2021</td>\n",
       "      <td>Today, the U.S. Food and Drug Administration ...</td>\n",
       "    </tr>\n",
       "    <tr>\n",
       "      <th>4</th>\n",
       "      <td>5</td>\n",
       "      <td>FDA Releases Cyclospora Prevention, Response a...</td>\n",
       "      <td>July 01, 2021</td>\n",
       "      <td>As part of our ongoing efforts to combat food...</td>\n",
       "    </tr>\n",
       "  </tbody>\n",
       "</table>\n",
       "</div>"
      ],
      "text/plain": [
       "   id                                              title        created  \\\n",
       "0   1  FDA Provides Update on Ongoing Efforts to Bett...  June 30, 2021   \n",
       "1   2        Coronavirus (COVID-19) Update: July 2, 2021  July 02, 2021   \n",
       "2   3  FDA In Brief: FDA Revokes Emergency Use Author...  June 30, 2021   \n",
       "3   4  FDA Approves Component of Treatment Regimen fo...  June 30, 2021   \n",
       "4   5  FDA Releases Cyclospora Prevention, Response a...  July 01, 2021   \n",
       "\n",
       "                                            contents  \n",
       "0   Today, the U.S. Food and Drug Administration ...  \n",
       "1   The U.S. Food and Drug Administration (FDA) c...  \n",
       "2   The following quote is attributed to Suzanne ...  \n",
       "3   Today, the U.S. Food and Drug Administration ...  \n",
       "4   As part of our ongoing efforts to combat food...  "
      ]
     },
     "execution_count": 5,
     "metadata": {},
     "output_type": "execute_result"
    }
   ],
   "source": [
    "import pandas as pd\n",
    "pd_result = pd.DataFrame(result)\n",
    "pd_result.head()"
   ]
  },
  {
   "cell_type": "code",
   "execution_count": 6,
   "id": "bfb93de9",
   "metadata": {},
   "outputs": [
    {
     "data": {
      "text/plain": [
       "834"
      ]
     },
     "execution_count": 6,
     "metadata": {},
     "output_type": "execute_result"
    }
   ],
   "source": [
    "len(pd_result)"
   ]
  },
  {
   "cell_type": "code",
   "execution_count": 8,
   "id": "c34d2601",
   "metadata": {},
   "outputs": [
    {
     "name": "stdout",
     "output_type": "stream",
     "text": [
      "{'id': 834, 'title': 'FDA In Brief: FDA to Hold Meeting of its Vaccines and Related Biological Products Advisory Committee to Discuss Pediatric Use of COVID-19 Vaccines', 'created': 'May 10, 2021', 'contents': ' The following quote is attributed to Peter Marks, M.D., Ph.D., director of the FDA’s Center for Biologics Evaluation and Research The U.S. Food and Drug Administration’s Center for Biologics Evaluation and Research (CBER) will convene a virtual meeting of the Vaccines and Related Biological Products Advisory Committee (VRBPAC) on June 10, 2021, via webcast. During the meeting the agency will provide a status update on our approach to emergency use authorization (EUA) for COVID-19 vaccines intended for use in individuals 12 through 17 years of age. The committee will also discuss the data needed to support an EUA and a biologics license application (BLA) for a COVID-19 vaccine intended for use in children less than 12 years of age. The committee will not discuss any specific products. The FDA intends to issue a Federal Register notice as soon as possible with details of the meeting, which will include information about the availability of a public docket for comments. At that time, public comments can be submitted for consideration by the committee and FDA. The FDA intends to make background material available to the public, including the meeting agenda and committee roster, no later than two business days before the meeting. In general, advisory committees include a Chair, members with scientific, medical and public health expertise, and a consumer and industry representative. Additional experts with specific expertise may be added for individual meetings as needed. The FDA intends to livestream the VRBPAC meeting on the agency’s YouTube, Facebook and Twitter channels; the meeting will also be webcast from the FDA website.'}\n"
     ]
    }
   ],
   "source": [
    "cursor.execute('SELECT * FROM crawlingNews WHERE id=834 ;')\n",
    "resultId834 = cursor.fetchone()\n",
    "print(resultId834)"
   ]
  },
  {
   "cell_type": "code",
   "execution_count": null,
   "id": "94f1ae9f",
   "metadata": {},
   "outputs": [],
   "source": []
  }
 ],
 "metadata": {
  "kernelspec": {
   "display_name": "Python 3",
   "language": "python",
   "name": "python3"
  },
  "language_info": {
   "codemirror_mode": {
    "name": "ipython",
    "version": 3
   },
   "file_extension": ".py",
   "mimetype": "text/x-python",
   "name": "python",
   "nbconvert_exporter": "python",
   "pygments_lexer": "ipython3",
   "version": "3.8.10"
  }
 },
 "nbformat": 4,
 "nbformat_minor": 5
}
