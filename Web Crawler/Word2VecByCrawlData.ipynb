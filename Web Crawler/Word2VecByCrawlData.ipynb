{
 "cells": [
  {
   "cell_type": "code",
   "execution_count": 1,
   "id": "9f9d3774",
   "metadata": {},
   "outputs": [],
   "source": [
    "# 10.워드 임베딩 03) 영어/한국어 Word2Vec 실습을 Scrapy로 crawl한 데이터로 진행해보자\n",
    "\n",
    "import pandas as pd\n",
    "import matplotlib.pyplot as plt\n",
    "import urllib.request\n",
    "from gensim.models.word2vec import Word2Vec\n",
    "from konlpy.tag import Okt"
   ]
  },
  {
   "cell_type": "code",
   "execution_count": 2,
   "id": "db873dd0",
   "metadata": {},
   "outputs": [],
   "source": [
    "data = pd.read_csv('./tutorial/moviesEX.csv')"
   ]
  },
  {
   "cell_type": "code",
   "execution_count": 3,
   "id": "ef210428",
   "metadata": {},
   "outputs": [
    {
     "name": "stdout",
     "output_type": "stream",
     "text": [
      "335915\n",
      "                                               reple\n",
      "0                                     엠마들이 다 해 먹는 영화\n",
      "1  재미있네요 조커와는 다른 매력적인 악당입니다. 조커는 밑바닥으로 추락하면서 빌런이 ...\n",
      "2               엠마스톤한테 잘 어울리는 캐릭터.. 소름 돋을 정도로 예쁘다...\n",
      "3  딱히 기대는 안 하고 봤는데 상상 그 이상으로 너무 재밌었음.. 다시 보러갈 의향도...\n",
      "4                                    크루엘라 이제 내 최애캐릭터\n"
     ]
    }
   ],
   "source": [
    "print(len(data))\n",
    "print(data[:5])"
   ]
  },
  {
   "cell_type": "code",
   "execution_count": 4,
   "id": "6f3141a3",
   "metadata": {},
   "outputs": [
    {
     "data": {
      "text/plain": [
       "0         False\n",
       "1         False\n",
       "2         False\n",
       "3         False\n",
       "4         False\n",
       "          ...  \n",
       "335910    False\n",
       "335911    False\n",
       "335912    False\n",
       "335913    False\n",
       "335914    False\n",
       "Name: reple, Length: 335915, dtype: bool"
      ]
     },
     "execution_count": 4,
     "metadata": {},
     "output_type": "execute_result"
    }
   ],
   "source": [
    "data['reple'].isnull()"
   ]
  },
  {
   "cell_type": "code",
   "execution_count": 5,
   "id": "56a8d3b6",
   "metadata": {},
   "outputs": [
    {
     "data": {
      "text/plain": [
       "18079"
      ]
     },
     "execution_count": 5,
     "metadata": {},
     "output_type": "execute_result"
    }
   ],
   "source": [
    "data['reple'].isnull().sum()"
   ]
  },
  {
   "cell_type": "code",
   "execution_count": 6,
   "id": "6a717c60",
   "metadata": {},
   "outputs": [
    {
     "data": {
      "text/html": [
       "<div>\n",
       "<style scoped>\n",
       "    .dataframe tbody tr th:only-of-type {\n",
       "        vertical-align: middle;\n",
       "    }\n",
       "\n",
       "    .dataframe tbody tr th {\n",
       "        vertical-align: top;\n",
       "    }\n",
       "\n",
       "    .dataframe thead th {\n",
       "        text-align: right;\n",
       "    }\n",
       "</style>\n",
       "<table border=\"1\" class=\"dataframe\">\n",
       "  <thead>\n",
       "    <tr style=\"text-align: right;\">\n",
       "      <th></th>\n",
       "      <th>reple</th>\n",
       "    </tr>\n",
       "  </thead>\n",
       "  <tbody>\n",
       "    <tr>\n",
       "      <th>0</th>\n",
       "      <td>엠마들이 다 해 먹는 영화</td>\n",
       "    </tr>\n",
       "    <tr>\n",
       "      <th>1</th>\n",
       "      <td>재미있네요 조커와는 다른 매력적인 악당입니다. 조커는 밑바닥으로 추락하면서 빌런이 ...</td>\n",
       "    </tr>\n",
       "    <tr>\n",
       "      <th>2</th>\n",
       "      <td>엠마스톤한테 잘 어울리는 캐릭터.. 소름 돋을 정도로 예쁘다...</td>\n",
       "    </tr>\n",
       "    <tr>\n",
       "      <th>3</th>\n",
       "      <td>딱히 기대는 안 하고 봤는데 상상 그 이상으로 너무 재밌었음.. 다시 보러갈 의향도...</td>\n",
       "    </tr>\n",
       "    <tr>\n",
       "      <th>4</th>\n",
       "      <td>크루엘라 이제 내 최애캐릭터</td>\n",
       "    </tr>\n",
       "    <tr>\n",
       "      <th>...</th>\n",
       "      <td>...</td>\n",
       "    </tr>\n",
       "    <tr>\n",
       "      <th>335910</th>\n",
       "      <td>팬심 빼고 객관적으로 말합니다. 타임머신 스토리는 함부로 다루면 안됨. 이 영화도 ...</td>\n",
       "    </tr>\n",
       "    <tr>\n",
       "      <th>335911</th>\n",
       "      <td>단체달리기 미쳤냐?  날아가는 놈들은 타노스랑 먼저 싸우기싫어서 저속비행하는거냐? ...</td>\n",
       "    </tr>\n",
       "    <tr>\n",
       "      <th>335912</th>\n",
       "      <td>ㅇ</td>\n",
       "    </tr>\n",
       "    <tr>\n",
       "      <th>335913</th>\n",
       "      <td>이게 재밌음? 유치함.. 좋아하는사람만보샘</td>\n",
       "    </tr>\n",
       "    <tr>\n",
       "      <th>335914</th>\n",
       "      <td>이게 재밌음? 유치함.. 좋아하는사람만보샘</td>\n",
       "    </tr>\n",
       "  </tbody>\n",
       "</table>\n",
       "<p>317836 rows × 1 columns</p>\n",
       "</div>"
      ],
      "text/plain": [
       "                                                    reple\n",
       "0                                          엠마들이 다 해 먹는 영화\n",
       "1       재미있네요 조커와는 다른 매력적인 악당입니다. 조커는 밑바닥으로 추락하면서 빌런이 ...\n",
       "2                    엠마스톤한테 잘 어울리는 캐릭터.. 소름 돋을 정도로 예쁘다...\n",
       "3       딱히 기대는 안 하고 봤는데 상상 그 이상으로 너무 재밌었음.. 다시 보러갈 의향도...\n",
       "4                                         크루엘라 이제 내 최애캐릭터\n",
       "...                                                   ...\n",
       "335910  팬심 빼고 객관적으로 말합니다. 타임머신 스토리는 함부로 다루면 안됨. 이 영화도 ...\n",
       "335911  단체달리기 미쳤냐?  날아가는 놈들은 타노스랑 먼저 싸우기싫어서 저속비행하는거냐? ...\n",
       "335912                                                  ㅇ\n",
       "335913                            이게 재밌음? 유치함.. 좋아하는사람만보샘\n",
       "335914                            이게 재밌음? 유치함.. 좋아하는사람만보샘\n",
       "\n",
       "[317836 rows x 1 columns]"
      ]
     },
     "execution_count": 6,
     "metadata": {},
     "output_type": "execute_result"
    }
   ],
   "source": [
    "data.dropna()"
   ]
  },
  {
   "cell_type": "code",
   "execution_count": 7,
   "id": "0358b4b0",
   "metadata": {},
   "outputs": [
    {
     "data": {
      "text/plain": [
       "18079"
      ]
     },
     "execution_count": 7,
     "metadata": {},
     "output_type": "execute_result"
    }
   ],
   "source": [
    "data['reple'].isnull().sum()"
   ]
  },
  {
   "cell_type": "code",
   "execution_count": 8,
   "id": "dffab0f7",
   "metadata": {},
   "outputs": [],
   "source": [
    "#null값 제거\n",
    "data.dropna(inplace=True)"
   ]
  },
  {
   "cell_type": "code",
   "execution_count": 9,
   "id": "f217bad8",
   "metadata": {},
   "outputs": [
    {
     "data": {
      "text/plain": [
       "0"
      ]
     },
     "execution_count": 9,
     "metadata": {},
     "output_type": "execute_result"
    }
   ],
   "source": [
    "data['reple'].isnull().sum()"
   ]
  },
  {
   "cell_type": "code",
   "execution_count": 10,
   "id": "1d9abf35",
   "metadata": {},
   "outputs": [
    {
     "data": {
      "text/plain": [
       "(317836, 311490)"
      ]
     },
     "execution_count": 10,
     "metadata": {},
     "output_type": "execute_result"
    }
   ],
   "source": [
    "len(data), data['reple'].nunique()"
   ]
  },
  {
   "cell_type": "code",
   "execution_count": 11,
   "id": "e3ae365b",
   "metadata": {},
   "outputs": [
    {
     "data": {
      "text/plain": [
       "311490"
      ]
     },
     "execution_count": 11,
     "metadata": {},
     "output_type": "execute_result"
    }
   ],
   "source": [
    "#중복값 제거\n",
    "data.drop_duplicates(inplace=True)\n",
    "len(data)"
   ]
  },
  {
   "cell_type": "code",
   "execution_count": 12,
   "id": "54a57f94",
   "metadata": {},
   "outputs": [],
   "source": [
    "# 정규표현식을 통한 한글 외 문자 제거\n",
    "train_data = data['reple'].str.replace(\"[^ㄱ-ㅎㅏ-ㅣ가-힣 ]\",\"\",regex=True)"
   ]
  },
  {
   "cell_type": "code",
   "execution_count": 13,
   "id": "320cbf8e",
   "metadata": {},
   "outputs": [
    {
     "data": {
      "text/plain": [
       "311490"
      ]
     },
     "execution_count": 13,
     "metadata": {},
     "output_type": "execute_result"
    }
   ],
   "source": [
    "len(train_data)"
   ]
  },
  {
   "cell_type": "code",
   "execution_count": 14,
   "id": "d25215e7",
   "metadata": {},
   "outputs": [],
   "source": [
    "#불용어 정의\n",
    "stopwords = ['의','가','이','은','들','는','좀','잘','걍','과','도','를','으로','자','에','와','한','하다']"
   ]
  },
  {
   "cell_type": "code",
   "execution_count": 15,
   "id": "9107168d",
   "metadata": {},
   "outputs": [],
   "source": [
    "# 형태소 분석기 OKT를 사용한 토큰화 작업 (다소 시간 소요)\n",
    "okt = Okt()\n",
    "tokenized_data = []\n",
    "for sentence in train_data:\n",
    "    temp_X = okt.morphs(sentence, stem=True) # 토큰화\n",
    "    temp_X = [word for word in temp_X if not word in stopwords] # 불용어 제거\n",
    "    tokenized_data.append(temp_X)"
   ]
  },
  {
   "cell_type": "code",
   "execution_count": 16,
   "id": "0d6dc278",
   "metadata": {},
   "outputs": [
    {
     "name": "stdout",
     "output_type": "stream",
     "text": [
      "리뷰의 최대 길이 : 64\n",
      "리뷰의 평균 길이 : 9.436020417990946\n"
     ]
    },
    {
     "data": {
      "image/png": "[encoded data removed]",
      "text/plain": [
       "<Figure size 432x288 with 1 Axes>"
      ]
     },
     "metadata": {
      "needs_background": "light"
     },
     "output_type": "display_data"
    }
   ],
   "source": [
    "# 리뷰 길이 분포 확인\n",
    "print('리뷰의 최대 길이 :',max(len(l) for l in tokenized_data))\n",
    "print('리뷰의 평균 길이 :',sum(map(len, tokenized_data))/len(tokenized_data))\n",
    "plt.hist([len(s) for s in tokenized_data], bins=50)\n",
    "plt.xlabel('length of samples')\n",
    "plt.ylabel('number of samples')\n",
    "plt.show()"
   ]
  },
  {
   "cell_type": "code",
   "execution_count": 18,
   "id": "37697c09",
   "metadata": {},
   "outputs": [],
   "source": [
    "from gensim.models import Word2Vec\n",
    "model = Word2Vec(sentences = tokenized_data, vector_size = 100, window = 5, min_count = 5, workers = 4, sg = 0)"
   ]
  },
  {
   "cell_type": "code",
   "execution_count": 19,
   "id": "6a766267",
   "metadata": {},
   "outputs": [
    {
     "data": {
      "text/plain": [
       "(11807, 100)"
      ]
     },
     "execution_count": 19,
     "metadata": {},
     "output_type": "execute_result"
    }
   ],
   "source": [
    "# 완성된 임베딩 매트릭스의 크기 확인\n",
    "model.wv.vectors.shape"
   ]
  },
  {
   "cell_type": "code",
   "execution_count": 20,
   "id": "e14dc755",
   "metadata": {},
   "outputs": [
    {
     "name": "stdout",
     "output_type": "stream",
     "text": [
      "[('디지다', 0.8413909673690796), ('픽사', 0.8164016008377075), ('월트디즈니', 0.6693775057792664), ('애니', 0.5615917444229126), ('겨울왕국', 0.5138360261917114), ('애니메이션', 0.49241429567337036), ('메이드', 0.4884139895439148), ('실사', 0.48377975821495056), ('애니매이션', 0.4785113036632538), ('갓즈니', 0.47458529472351074)]\n"
     ]
    }
   ],
   "source": [
    "print(model.wv.most_similar(\"디즈니\"))"
   ]
  },
  {
   "cell_type": "code",
   "execution_count": 21,
   "id": "ce685ea7",
   "metadata": {},
   "outputs": [
    {
     "name": "stdout",
     "output_type": "stream",
     "text": [
      "[('히어로', 0.8595595359802246), ('슈퍼히어로', 0.7690877914428711), ('인물', 0.6492668390274048), ('등장인물', 0.5758699178695679), ('악당', 0.5572696924209595), ('캐릭', 0.5161684155464172), ('캡틴', 0.5139737129211426), ('어벤져스', 0.4980274736881256), ('재료', 0.4913104772567749), ('복선', 0.48683804273605347)]\n"
     ]
    }
   ],
   "source": [
    "print(model.wv.most_similar(\"영웅\"))"
   ]
  },
  {
   "cell_type": "code",
   "execution_count": 22,
   "id": "fa6eaf7a",
   "metadata": {},
   "outputs": [
    {
     "name": "stdout",
     "output_type": "stream",
     "text": [
      "[('눈물나다', 0.807034432888031), ('오열', 0.705758810043335), ('울다', 0.6723195314407349), ('찡하다', 0.6309906244277954), ('눈물', 0.627592921257019), ('뭉클하다', 0.6202914118766785), ('벅차오르다', 0.6090335845947266), ('울컥울컥', 0.6012942790985107), ('코끝', 0.5897082686424255), ('벅차다', 0.5881829261779785)]\n"
     ]
    }
   ],
   "source": [
    "print(model.wv.most_similar(\"울컥\"))"
   ]
  },
  {
   "cell_type": "code",
   "execution_count": 23,
   "id": "f4e57aa8",
   "metadata": {},
   "outputs": [
    {
     "name": "stdout",
     "output_type": "stream",
     "text": [
      "[('영웅', 0.8595595955848694), ('슈퍼히어로', 0.797484278678894), ('시리즈', 0.5520724058151245), ('미스터', 0.5481095314025879), ('땅불', 0.5206567645072937), ('액션영화', 0.5120751261711121), ('레즈', 0.49829408526420593), ('오른', 0.4870205521583557), ('어벤져스', 0.48303768038749695), ('장르', 0.4797782897949219)]\n"
     ]
    }
   ],
   "source": [
    "print(model.wv.most_similar(\"히어로\"))"
   ]
  },
  {
   "cell_type": "code",
   "execution_count": 24,
   "id": "9174aae7",
   "metadata": {},
   "outputs": [
    {
     "name": "stdout",
     "output_type": "stream",
     "text": [
      "[('딸아이', 0.7749825119972229), ('자녀', 0.7264703512191772), ('애', 0.7255581617355347), ('딸', 0.7199493050575256), ('아들', 0.7176122665405273), ('조카', 0.7077094912528992), ('어린이', 0.6950260400772095), ('여자아이', 0.6702176928520203), ('애기', 0.6433129906654358), ('아기', 0.6207179427146912)]\n"
     ]
    }
   ],
   "source": [
    "print(model.wv.most_similar(\"아이\"))"
   ]
  },
  {
   "cell_type": "code",
   "execution_count": 28,
   "id": "c78b5474",
   "metadata": {},
   "outputs": [],
   "source": [
    "from tensorflow.keras.preprocessing.text import Tokenizer\n",
    "tokenizer = Tokenizer()\n",
    "tokenizer.fit_on_texts(tokenized_data)\n",
    "\n",
    "word2idx = tokenizer.word_index\n",
    "idx2word = {v:k for k, v in word2idx.items()}\n",
    "encoded = tokenizer.texts_to_sequences(tokenized_data)"
   ]
  },
  {
   "cell_type": "code",
   "execution_count": 29,
   "id": "8f6bc4db",
   "metadata": {},
   "outputs": [
    {
     "name": "stdout",
     "output_type": "stream",
     "text": [
      "[[432, 14, 307, 224, 2], [9, 2462, 1735, 282, 266, 17, 51, 715, 6, 2462, 10690, 8168, 775, 21, 710, 717, 3795, 7, 764, 775, 21]]\n"
     ]
    }
   ],
   "source": [
    "print(encoded[:2])"
   ]
  },
  {
   "cell_type": "code",
   "execution_count": 30,
   "id": "654d072c",
   "metadata": {},
   "outputs": [
    {
     "name": "stdout",
     "output_type": "stream",
     "text": [
      "단어 집합의 크기 : 40187\n"
     ]
    }
   ],
   "source": [
    "vocab_size = len(word2idx) + 1 \n",
    "print('단어 집합의 크기 :', vocab_size)"
   ]
  },
  {
   "cell_type": "code",
   "execution_count": 35,
   "id": "989c8071",
   "metadata": {},
   "outputs": [],
   "source": [
    "from tensorflow.keras.models import load_model\n",
    "loaded_model = load_model('Python/best_model.h5')"
   ]
  },
  {
   "cell_type": "code",
   "execution_count": 46,
   "id": "d503baee",
   "metadata": {},
   "outputs": [
    {
     "name": "stdout",
     "output_type": "stream",
     "text": [
      "['엠마', '다', '해', '먹다', '영화']는\n",
      "98.88% 확률로 부정 리뷰입니다.\n",
      "\n",
      "['재미있다', '조커', '와는', '다른', '매력', '적', '인', '악당', '이다', '조커', '밑바닥', '추락', '빌런', '되다', '크루', '엘라', '정상', '을', '찍다', '빌런', '되다']는\n",
      "95.11% 확률로 긍정 리뷰입니다.\n",
      "\n",
      "['엠마', '스톤', '한테', '자다', '어울리다', '캐릭터', '소름', '돋다', '정도', '로', '예쁘다']는\n",
      "57.78% 확률로 긍정 리뷰입니다.\n",
      "\n",
      "['딱하다', '기대다', '안', '보다', '상상', '그', '이상', '너무', '재밌다', '다시', '보다', '갈다', '의향', '있다', 'ㅇ', '달다']는\n",
      "84.42% 확률로 긍정 리뷰입니다.\n",
      "\n",
      "['크루', '엘라', '이제', '내', '최애', '캐릭터']는\n",
      "70.95% 확률로 긍정 리뷰입니다.\n",
      "\n",
      "['영화', '내내', '빌런', '스러운', '분위기', '좋다', '배우', '연기', '진짜']는\n",
      "73.62% 확률로 긍정 리뷰입니다.\n",
      "\n",
      "['그냥', '미치다', '뭐', '하나', '빠지다', '없다', '마리', '달마시안', '팬', '영화', '끝나다', '같다', '나가다', '일단', '앉다', 'ㅋㅋㅋㅋ']는\n",
      "62.45% 확률로 부정 리뷰입니다.\n",
      "\n",
      "['웃기다', '별', '점', '점', '준', '애', '너', '이름', '전부', '점', '주다', 'ㅋ', '신카이', '마코토', '나다', '좋아하다', '영화', '그', '영화', '랑', '비교', '별', '개', '짜다', '리', '아니다', '같다']는\n",
      "98.92% 확률로 부정 리뷰입니다.\n",
      "\n",
      "['남녀', '노소', '누가', '보다', '명작', '믿다', '보다', '디즈니']는\n",
      "72.22% 확률로 긍정 리뷰입니다.\n",
      "\n",
      "['혼', '모노', '왜', '별', '점', '테러']는\n",
      "78.86% 확률로 부정 리뷰입니다.\n",
      "\n",
      "['윌', '스미스', '하드캐리', '의도', '치', '않다', '원작', '을', '뛰어넘다', '실사영화']는\n",
      "64.56% 확률로 긍정 리뷰입니다.\n",
      "\n",
      "['영화', '너무', '아름답다', '잊혀지다', '안고', '디즈니', '실사', '중', '에서', '최고', '중', '최고다', '쟈스민', '너무', '멋지다', '팬', '엄청나다', '생기다', '웃다', '울', '다가', '너무', '좋다']는\n",
      "88.40% 확률로 긍정 리뷰입니다.\n",
      "\n",
      "['존잼임', '난', '처음', '도입', '부', '아라비안', '나잇', '부분', '에서부터', '감동', '받다', '울', '뻔하다']는\n",
      "71.34% 확률로 긍정 리뷰입니다.\n",
      "\n",
      "['운', '좋다', '시사회', '로', '보다', '진짜', '재밌다', '올해', '보다', '영화', '중', '최고', '이다', 'ㅠ', '문화', '날로', '할인', '받다', '엄마', '랑', '보다', '또', '예매', '함', 'ㅎ']는\n",
      "53.24% 확률로 부정 리뷰입니다.\n",
      "\n",
      "['배우', '연기', '랑', '음악', '넘다', '좋다', '재미있다', '보다']는\n",
      "87.85% 확률로 긍정 리뷰입니다.\n",
      "\n",
      "['역시', '엠마', '스톤', '최고', '네', '요', '믿다', '보다', '대로', '완전', '최고', '영화', '이다', '비틀즈', '음악', '최고', '기분', '재미', '최고']는\n",
      "83.24% 확률로 부정 리뷰입니다.\n",
      "\n",
      "['단언컨대', '년', '상반기', '영화', '최고', '버디', '플레이', '강동원', '황정민', '아니다', '주', '디', '닉']는\n",
      "62.03% 확률로 부정 리뷰입니다.\n",
      "\n",
      "['평점', '왜', '이래', '존잼', '인데', '장난', '치', '지', '마르다']는\n",
      "71.19% 확률로 긍정 리뷰입니다.\n",
      "\n",
      "['별', '점', '테러', '작작하다']는\n",
      "73.15% 확률로 부정 리뷰입니다.\n",
      "\n",
      "['겨울왕국', '대다', '잇다', '대', '서사', '모험', '극', '화려하다', '그래픽', '밝다', '스토리', '로', '아이', '차다', '좋아하다', '재밌다']는\n",
      "56.62% 확률로 부정 리뷰입니다.\n",
      "\n",
      "['하얗다', '마시멜로우', '가치', '생기다', '귀요미', '못', '없다']는\n",
      "56.02% 확률로 부정 리뷰입니다.\n",
      "\n"
     ]
    }
   ],
   "source": [
    "#오류 많지만 시도에 의의\n",
    "from tensorflow.keras.preprocessing.sequence import pad_sequences\n",
    "max_len = 64\n",
    "for i in range(0,21):\n",
    "  pad_new = pad_sequences([encoded[i]], maxlen = max_len) # 패딩\n",
    "  score = float(loaded_model.predict(pad_new)) # 예측\n",
    "  print(f\"{tokenized_data[i]}는\")\n",
    "  if(score > 0.5):\n",
    "    print(\"{:.2f}% 확률로 긍정 리뷰입니다.\\n\".format(score * 100))\n",
    "  else:\n",
    "    print(\"{:.2f}% 확률로 부정 리뷰입니다.\\n\".format((1 - score) * 100))"
   ]
  },
  {
   "cell_type": "code",
   "execution_count": null,
   "id": "ffc8db72",
   "metadata": {},
   "outputs": [],
   "source": []
  }
 ],
 "metadata": {
  "kernelspec": {
   "display_name": "Python 3",
   "language": "python",
   "name": "python3"
  },
  "language_info": {
   "codemirror_mode": {
    "name": "ipython",
    "version": 3
   },
   "file_extension": ".py",
   "mimetype": "text/x-python",
   "name": "python",
   "nbconvert_exporter": "python",
   "pygments_lexer": "ipython3",
   "version": "3.8.10"
  }
 },
 "nbformat": 4,
 "nbformat_minor": 5
}
