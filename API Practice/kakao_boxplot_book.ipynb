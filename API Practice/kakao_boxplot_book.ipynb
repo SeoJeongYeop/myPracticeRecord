{
 "cells": [
  {
   "cell_type": "code",
   "execution_count": 1,
   "id": "e37b8313",
   "metadata": {},
   "outputs": [
    {
     "data": {
      "text/html": [
       "<div>\n",
       "<style scoped>\n",
       "    .dataframe tbody tr th:only-of-type {\n",
       "        vertical-align: middle;\n",
       "    }\n",
       "\n",
       "    .dataframe tbody tr th {\n",
       "        vertical-align: top;\n",
       "    }\n",
       "\n",
       "    .dataframe thead th {\n",
       "        text-align: right;\n",
       "    }\n",
       "</style>\n",
       "<table border=\"1\" class=\"dataframe\">\n",
       "  <thead>\n",
       "    <tr style=\"text-align: right;\">\n",
       "      <th></th>\n",
       "      <th>category</th>\n",
       "      <th>bookList</th>\n",
       "    </tr>\n",
       "  </thead>\n",
       "  <tbody>\n",
       "    <tr>\n",
       "      <th>0</th>\n",
       "      <td>수학</td>\n",
       "      <td>[{'title': '대학 수학 능력 평가 준비 0.1%의 비밀, 아두이노 기초편'...</td>\n",
       "    </tr>\n",
       "    <tr>\n",
       "      <th>1</th>\n",
       "      <td>과학</td>\n",
       "      <td>[{'title': '생명: 생물의 과학(12판)', 'authors': ['정종우...</td>\n",
       "    </tr>\n",
       "  </tbody>\n",
       "</table>\n",
       "</div>"
      ],
      "text/plain": [
       "  category                                           bookList\n",
       "0       수학  [{'title': '대학 수학 능력 평가 준비 0.1%의 비밀, 아두이노 기초편'...\n",
       "1       과학  [{'title': '생명: 생물의 과학(12판)', 'authors': ['정종우..."
      ]
     },
     "execution_count": 1,
     "metadata": {},
     "output_type": "execute_result"
    }
   ],
   "source": [
    "### 카카오API로 읽어온 책 데이터의 카테고리별 출간날짜를 박스그래프로 나타내보자\n",
    "\n",
    "import matplotlib.pyplot as plt\n",
    "import numpy as np\n",
    "import pandas as pd\n",
    "#kakao-search-book 에서 구축한 데이터를 불러온다.\n",
    "df = pd.read_json('data/bookData.json', orient = 'record', encoding = 'utf-8')\n",
    "df[0:2]"
   ]
  },
  {
   "cell_type": "code",
   "execution_count": 4,
   "id": "6e6f7680",
   "metadata": {},
   "outputs": [
    {
     "data": {
      "text/html": [
       "<div>\n",
       "<style scoped>\n",
       "    .dataframe tbody tr th:only-of-type {\n",
       "        vertical-align: middle;\n",
       "    }\n",
       "\n",
       "    .dataframe tbody tr th {\n",
       "        vertical-align: top;\n",
       "    }\n",
       "\n",
       "    .dataframe thead th {\n",
       "        text-align: right;\n",
       "    }\n",
       "</style>\n",
       "<table border=\"1\" class=\"dataframe\">\n",
       "  <thead>\n",
       "    <tr style=\"text-align: right;\">\n",
       "      <th></th>\n",
       "      <th>수학</th>\n",
       "      <th>과학</th>\n",
       "      <th>영어</th>\n",
       "      <th>정치</th>\n",
       "      <th>지식</th>\n",
       "      <th>요리</th>\n",
       "      <th>주식</th>\n",
       "      <th>위로</th>\n",
       "    </tr>\n",
       "  </thead>\n",
       "  <tbody>\n",
       "    <tr>\n",
       "      <th>0</th>\n",
       "      <td>211</td>\n",
       "      <td>270</td>\n",
       "      <td>405</td>\n",
       "      <td>210</td>\n",
       "      <td>211</td>\n",
       "      <td>212</td>\n",
       "      <td>224</td>\n",
       "      <td>227</td>\n",
       "    </tr>\n",
       "    <tr>\n",
       "      <th>1</th>\n",
       "      <td>211</td>\n",
       "      <td>224</td>\n",
       "      <td>217</td>\n",
       "      <td>210</td>\n",
       "      <td>211</td>\n",
       "      <td>212</td>\n",
       "      <td>217</td>\n",
       "      <td>220</td>\n",
       "    </tr>\n",
       "    <tr>\n",
       "      <th>2</th>\n",
       "      <td>210</td>\n",
       "      <td>216</td>\n",
       "      <td>211</td>\n",
       "      <td>208</td>\n",
       "      <td>211</td>\n",
       "      <td>204</td>\n",
       "      <td>211</td>\n",
       "      <td>211</td>\n",
       "    </tr>\n",
       "    <tr>\n",
       "      <th>3</th>\n",
       "      <td>209</td>\n",
       "      <td>215</td>\n",
       "      <td>211</td>\n",
       "      <td>205</td>\n",
       "      <td>210</td>\n",
       "      <td>204</td>\n",
       "      <td>211</td>\n",
       "      <td>210</td>\n",
       "    </tr>\n",
       "    <tr>\n",
       "      <th>4</th>\n",
       "      <td>208</td>\n",
       "      <td>211</td>\n",
       "      <td>210</td>\n",
       "      <td>205</td>\n",
       "      <td>210</td>\n",
       "      <td>204</td>\n",
       "      <td>210</td>\n",
       "      <td>210</td>\n",
       "    </tr>\n",
       "  </tbody>\n",
       "</table>\n",
       "</div>"
      ],
      "text/plain": [
       "    수학   과학   영어   정치   지식   요리   주식   위로\n",
       "0  211  270  405  210  211  212  224  227\n",
       "1  211  224  217  210  211  212  217  220\n",
       "2  210  216  211  208  211  204  211  211\n",
       "3  209  215  211  205  210  204  211  210\n",
       "4  208  211  210  205  210  204  210  210"
      ]
     },
     "execution_count": 4,
     "metadata": {},
     "output_type": "execute_result"
    }
   ],
   "source": [
    "categoryList = [\"수학\",\"과학\",\"영어\",\"정치\",\"지식\",\"요리\",\"주식\",\"위로\"]\n",
    "\n",
    "resultDict={}\n",
    "cnt = 0\n",
    "for i in df['bookList']:\n",
    "    value = []\n",
    "    for book in i:\n",
    "        date = book['date'].split(\"-\")\n",
    "        nDate = (int(date[0])-2021) * 365 + int(date[1])*30 + int(date[2])\n",
    "        value.append(nDate)\n",
    "    resultDict[categoryList[cnt]] = value\n",
    "    cnt += 1\n",
    "\n",
    "resultDf = pd.DataFrame(resultDict)\n",
    "resultDf.head()"
   ]
  },
  {
   "cell_type": "code",
   "execution_count": 5,
   "id": "4d9367c6",
   "metadata": {},
   "outputs": [
    {
     "name": "stdout",
     "output_type": "stream",
     "text": [
      "# 설정 되어있는 폰트 사이즈\n",
      "10.0\n",
      "# 설정 되어있는 폰트 글꼴\n",
      "['sans-serif']\n"
     ]
    },
    {
     "data": {
      "image/png": "[encoded data removed]",
      "text/plain": [
       "<Figure size 432x288 with 1 Axes>"
      ]
     },
     "metadata": {
      "needs_background": "light"
     },
     "output_type": "display_data"
    }
   ],
   "source": [
    "import matplotlib.pyplot as plt\n",
    "# path = 'C:/Windows/Fonts/맑은고딕.ttf'\n",
    "# fontprop = fm.FontProperties(fname=path, size=12)\n",
    "print('# 설정 되어있는 폰트 사이즈')\n",
    "print (plt.rcParams['font.size'] ) \n",
    "print('# 설정 되어있는 폰트 글꼴')\n",
    "print (plt.rcParams['font.family'] )\n",
    "plt.rc('font', family = 'Malgun Gothic')\n",
    "\n",
    "plt.boxplot([resultDf['수학'], resultDf['과학'],resultDf['영어'],resultDf['정치'],resultDf['지식'],resultDf['요리'], resultDf['주식'], resultDf['위로']]) # 두가지 데이터를 표시\n",
    "plt.xticks([1,2,3,4,5,6,7,8], ['수학', '과학', '영어', '정치', '지식', '요리', '주식', '위로']) #x축에 표시하는 눈금지정 함수, 1과 2 위치에 Female과 Male이라는 이름으로 표시\n",
    "plt.show()\n",
    "\n",
    "# 박스차트의 길이가 짧을 수록 최근에 관련 책이 많이 나온 것이다."
   ]
  }
 ],
 "metadata": {
  "kernelspec": {
   "display_name": "Python 3",
   "language": "python",
   "name": "python3"
  },
  "language_info": {
   "codemirror_mode": {
    "name": "ipython",
    "version": 3
   },
   "file_extension": ".py",
   "mimetype": "text/x-python",
   "name": "python",
   "nbconvert_exporter": "python",
   "pygments_lexer": "ipython3",
   "version": "3.8.10"
  }
 },
 "nbformat": 4,
 "nbformat_minor": 5
}
