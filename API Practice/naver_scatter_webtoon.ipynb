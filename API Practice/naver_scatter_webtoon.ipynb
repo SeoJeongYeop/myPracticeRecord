{
 "cells": [
  {
   "cell_type": "code",
   "execution_count": 1,
   "id": "bc7c4c4d",
   "metadata": {},
   "outputs": [],
   "source": [
    "### 네이버영화 리뷰 분류 데이터로 네이버 웹툰 블로그 글을 분류할 수 있을까?\n",
    "# 영화리뷰 분류 데이터로 매긴 점수를 웹툰 별점과 비교해서 산포도(scatter diagram)를 그리고\n",
    "# 카이제곱 검정과, 피어슨 상관분석, 스피어만 상관분석을 해본다.\n",
    "# 결론은 상관계수가 너무 낮고, 카이제곱 검정에서는 p값이 높아 귀무가설을 기각하지 못했다.\n",
    "\n",
    "import pandas as pd\n",
    "df1 = pd.read_json('data/dataPN.json', encoding = 'utf-8')"
   ]
  },
  {
   "cell_type": "code",
   "execution_count": 2,
   "id": "09b0aaf4",
   "metadata": {},
   "outputs": [],
   "source": [
    "df2 = pd.read_json('data/naverWebtoonData.json', encoding = 'utf-8')"
   ]
  },
  {
   "cell_type": "code",
   "execution_count": 3,
   "id": "88d76fef",
   "metadata": {},
   "outputs": [
    {
     "data": {
      "text/html": [
       "<div>\n",
       "<style scoped>\n",
       "    .dataframe tbody tr th:only-of-type {\n",
       "        vertical-align: middle;\n",
       "    }\n",
       "\n",
       "    .dataframe tbody tr th {\n",
       "        vertical-align: top;\n",
       "    }\n",
       "\n",
       "    .dataframe thead th {\n",
       "        text-align: right;\n",
       "    }\n",
       "</style>\n",
       "<table border=\"1\" class=\"dataframe\">\n",
       "  <thead>\n",
       "    <tr style=\"text-align: right;\">\n",
       "      <th></th>\n",
       "      <th>title</th>\n",
       "      <th>nSearch</th>\n",
       "      <th>positive review</th>\n",
       "      <th>negative review</th>\n",
       "    </tr>\n",
       "  </thead>\n",
       "  <tbody>\n",
       "    <tr>\n",
       "      <th>0</th>\n",
       "      <td>가비지타임</td>\n",
       "      <td>100</td>\n",
       "      <td>5513</td>\n",
       "      <td>2546</td>\n",
       "    </tr>\n",
       "    <tr>\n",
       "      <th>1</th>\n",
       "      <td>겟백</td>\n",
       "      <td>100</td>\n",
       "      <td>4825</td>\n",
       "      <td>3093</td>\n",
       "    </tr>\n",
       "  </tbody>\n",
       "</table>\n",
       "</div>"
      ],
      "text/plain": [
       "   title  nSearch  positive review  negative review\n",
       "0  가비지타임      100             5513             2546\n",
       "1     겟백      100             4825             3093"
      ]
     },
     "execution_count": 3,
     "metadata": {},
     "output_type": "execute_result"
    }
   ],
   "source": [
    "df1[:2]"
   ]
  },
  {
   "cell_type": "code",
   "execution_count": 6,
   "id": "75dc7e17",
   "metadata": {},
   "outputs": [
    {
     "name": "stdout",
     "output_type": "stream",
     "text": [
      "527 380\n"
     ]
    }
   ],
   "source": [
    "nSearchMax = df1[df1['nSearch'] == 100]\n",
    "t\n",
    "print(len(df1),len(nSearchMax))"
   ]
  },
  {
   "cell_type": "code",
   "execution_count": 7,
   "id": "8ea585ee",
   "metadata": {},
   "outputs": [
    {
     "data": {
      "text/html": [
       "<div>\n",
       "<style scoped>\n",
       "    .dataframe tbody tr th:only-of-type {\n",
       "        vertical-align: middle;\n",
       "    }\n",
       "\n",
       "    .dataframe tbody tr th {\n",
       "        vertical-align: top;\n",
       "    }\n",
       "\n",
       "    .dataframe thead th {\n",
       "        text-align: right;\n",
       "    }\n",
       "</style>\n",
       "<table border=\"1\" class=\"dataframe\">\n",
       "  <thead>\n",
       "    <tr style=\"text-align: right;\">\n",
       "      <th></th>\n",
       "      <th>title</th>\n",
       "      <th>nSearch</th>\n",
       "      <th>positive review</th>\n",
       "      <th>negative review</th>\n",
       "      <th>artist</th>\n",
       "      <th>genre</th>\n",
       "      <th>description</th>\n",
       "      <th>titleID</th>\n",
       "      <th>score</th>\n",
       "      <th>blog_description</th>\n",
       "    </tr>\n",
       "  </thead>\n",
       "  <tbody>\n",
       "    <tr>\n",
       "      <th>0</th>\n",
       "      <td>가비지타임</td>\n",
       "      <td>100</td>\n",
       "      <td>5513</td>\n",
       "      <td>2546</td>\n",
       "      <td>[2사장]</td>\n",
       "      <td>[스토리, 스포츠]</td>\n",
       "      <td>열혈따윈 개나 줘.    낙오자들 뿐인 농구부의 운명은?</td>\n",
       "      <td>703844</td>\n",
       "      <td>9.96</td>\n",
       "      <td>[네이버 웹툰 &lt;가비지타임&gt; 프로필 사진. 주인공 기상호. 몇 년 전까지만 해도 잘...</td>\n",
       "    </tr>\n",
       "    <tr>\n",
       "      <th>1</th>\n",
       "      <td>겟백</td>\n",
       "      <td>100</td>\n",
       "      <td>4825</td>\n",
       "      <td>3093</td>\n",
       "      <td>[세윤]</td>\n",
       "      <td>[에피소드, 드라마]</td>\n",
       "      <td>7년 전, 운명이 뒤바뀐 소녀들.     태어날 때 부터 타고난 능력을 지닌 다정과...</td>\n",
       "      <td>727798</td>\n",
       "      <td>9.98</td>\n",
       "      <td>[느와르 장르의 네이버 웹툰 '겟백 (Get Back)'을 소개합니다. 겟 백 ( ...</td>\n",
       "    </tr>\n",
       "  </tbody>\n",
       "</table>\n",
       "</div>"
      ],
      "text/plain": [
       "   title  nSearch  positive review  negative review artist        genre  \\\n",
       "0  가비지타임      100             5513             2546  [2사장]   [스토리, 스포츠]   \n",
       "1     겟백      100             4825             3093   [세윤]  [에피소드, 드라마]   \n",
       "\n",
       "                                         description  titleID  score  \\\n",
       "0                    열혈따윈 개나 줘.    낙오자들 뿐인 농구부의 운명은?   703844   9.96   \n",
       "1  7년 전, 운명이 뒤바뀐 소녀들.     태어날 때 부터 타고난 능력을 지닌 다정과...   727798   9.98   \n",
       "\n",
       "                                    blog_description  \n",
       "0  [네이버 웹툰 <가비지타임> 프로필 사진. 주인공 기상호. 몇 년 전까지만 해도 잘...  \n",
       "1  [느와르 장르의 네이버 웹툰 '겟백 (Get Back)'을 소개합니다. 겟 백 ( ...  "
      ]
     },
     "execution_count": 7,
     "metadata": {},
     "output_type": "execute_result"
    }
   ],
   "source": [
    "mergeDf = pd.merge(nSearchMax, df2, how = 'inner', on = None)\n",
    "mergeDf[:2]"
   ]
  },
  {
   "cell_type": "code",
   "execution_count": 8,
   "id": "32ddb24b",
   "metadata": {},
   "outputs": [
    {
     "data": {
      "image/png": "[encoded data removed]",
      "text/plain": [
       "<Figure size 432x288 with 1 Axes>"
      ]
     },
     "metadata": {
      "needs_background": "light"
     },
     "output_type": "display_data"
    }
   ],
   "source": [
    "import matplotlib.pyplot as plt\n",
    "import numpy as np\n",
    "\n",
    "plt.scatter(mergeDf['score'], mergeDf['positive review'])\n",
    "plt.show()"
   ]
  },
  {
   "cell_type": "code",
   "execution_count": 9,
   "id": "ff0479a9",
   "metadata": {},
   "outputs": [],
   "source": [
    "mergeDf = mergeDf[mergeDf['score'] >= 7]"
   ]
  },
  {
   "cell_type": "code",
   "execution_count": 11,
   "id": "722d3ab2",
   "metadata": {},
   "outputs": [
    {
     "data": {
      "text/plain": [
       "379"
      ]
     },
     "execution_count": 11,
     "metadata": {},
     "output_type": "execute_result"
    }
   ],
   "source": [
    "len(mergeDf)"
   ]
  },
  {
   "cell_type": "code",
   "execution_count": 12,
   "id": "a3048cf6",
   "metadata": {},
   "outputs": [
    {
     "data": {
      "image/png": "[encoded data removed]",
      "text/plain": [
       "<Figure size 432x288 with 1 Axes>"
      ]
     },
     "metadata": {
      "needs_background": "light"
     },
     "output_type": "display_data"
    }
   ],
   "source": [
    "plt.scatter(mergeDf['score'], mergeDf['positive review'])\n",
    "plt.show()"
   ]
  },
  {
   "cell_type": "code",
   "execution_count": 13,
   "id": "05cbc1b2",
   "metadata": {},
   "outputs": [
    {
     "data": {
      "text/plain": [
       "366"
      ]
     },
     "execution_count": 13,
     "metadata": {},
     "output_type": "execute_result"
    }
   ],
   "source": [
    "mergeDf = mergeDf[mergeDf['score'] >= 9]\n",
    "len(mergeDf)"
   ]
  },
  {
   "cell_type": "code",
   "execution_count": 14,
   "id": "3ecfe43a",
   "metadata": {},
   "outputs": [
    {
     "data": {
      "image/png": "[encoded data removed]",
      "text/plain": [
       "<Figure size 432x288 with 1 Axes>"
      ]
     },
     "metadata": {
      "needs_background": "light"
     },
     "output_type": "display_data"
    }
   ],
   "source": [
    "plt.scatter(mergeDf['score'], mergeDf['positive review'])\n",
    "plt.show()"
   ]
  },
  {
   "cell_type": "code",
   "execution_count": 16,
   "id": "16f1eb1e",
   "metadata": {},
   "outputs": [
    {
     "data": {
      "text/plain": [
       "339"
      ]
     },
     "execution_count": 16,
     "metadata": {},
     "output_type": "execute_result"
    }
   ],
   "source": [
    "mergeDftop = mergeDf[mergeDf['score'] >= 9.6]\n",
    "len(mergeDftop)"
   ]
  },
  {
   "cell_type": "code",
   "execution_count": 18,
   "id": "d103e4f0",
   "metadata": {},
   "outputs": [
    {
     "data": {
      "image/png": "[encoded data removed]",
      "text/plain": [
       "<Figure size 432x288 with 1 Axes>"
      ]
     },
     "metadata": {
      "needs_background": "light"
     },
     "output_type": "display_data"
    }
   ],
   "source": [
    "plt.scatter(mergeDftop['score'], mergeDftop['positive review'])\n",
    "plt.show()"
   ]
  },
  {
   "cell_type": "code",
   "execution_count": 19,
   "id": "f9c69e8e",
   "metadata": {},
   "outputs": [
    {
     "data": {
      "text/html": [
       "<div>\n",
       "<style scoped>\n",
       "    .dataframe tbody tr th:only-of-type {\n",
       "        vertical-align: middle;\n",
       "    }\n",
       "\n",
       "    .dataframe tbody tr th {\n",
       "        vertical-align: top;\n",
       "    }\n",
       "\n",
       "    .dataframe thead th {\n",
       "        text-align: right;\n",
       "    }\n",
       "</style>\n",
       "<table border=\"1\" class=\"dataframe\">\n",
       "  <thead>\n",
       "    <tr style=\"text-align: right;\">\n",
       "      <th></th>\n",
       "      <th>title</th>\n",
       "      <th>nSearch</th>\n",
       "      <th>positive review</th>\n",
       "      <th>negative review</th>\n",
       "      <th>artist</th>\n",
       "      <th>genre</th>\n",
       "      <th>description</th>\n",
       "      <th>titleID</th>\n",
       "      <th>score</th>\n",
       "      <th>blog_description</th>\n",
       "    </tr>\n",
       "  </thead>\n",
       "  <tbody>\n",
       "    <tr>\n",
       "      <th>63</th>\n",
       "      <td>[드라마원작] 간 떨어지는 동거</td>\n",
       "      <td>100</td>\n",
       "      <td>1164</td>\n",
       "      <td>7225</td>\n",
       "      <td>[나]</td>\n",
       "      <td>[스토리, 로맨스]</td>\n",
       "      <td>인간이 되고자 900년간 노력해왔지만  불의의 사고로 한 여대생에게 여우구슬을 빼앗...</td>\n",
       "      <td>699415</td>\n",
       "      <td>9.97</td>\n",
       "      <td>[드라마를 보면 볼수록 간 떨어지는 동거 원작 웹툰의 장면 연출 포인트를 잘 잡았다...</td>\n",
       "    </tr>\n",
       "    <tr>\n",
       "      <th>137</th>\n",
       "      <td>좀비 파이트</td>\n",
       "      <td>100</td>\n",
       "      <td>1988</td>\n",
       "      <td>5548</td>\n",
       "      <td>[이저녁]</td>\n",
       "      <td>[스토리, 액션]</td>\n",
       "      <td>이안은 삶이 힘들어질수록 감정을 끄며 버텨낸다.    아버지의 폭력과 빚더미 뿐인 ...</td>\n",
       "      <td>765157</td>\n",
       "      <td>9.94</td>\n",
       "      <td>[21.3.19~ 토요웹툰 시지프스?ㅜㅜ 무력감에 빠질 때쯤, 공감 가면서도 부러운...</td>\n",
       "    </tr>\n",
       "    <tr>\n",
       "      <th>264</th>\n",
       "      <td>방과후 선녀</td>\n",
       "      <td>100</td>\n",
       "      <td>1381</td>\n",
       "      <td>6157</td>\n",
       "      <td>[이윤후]</td>\n",
       "      <td>[스토리, 드라마]</td>\n",
       "      <td>\"인간의 믿음이 없으면, 우리는 존재할 수 없어.\"      신기를 타고났지만 신내...</td>\n",
       "      <td>761587</td>\n",
       "      <td>9.96</td>\n",
       "      <td>[웹툰 모음 신이 담긴 아이 / 내 친구는 선녀 보살 / 미래의 골동품 가게 / 바...</td>\n",
       "    </tr>\n",
       "    <tr>\n",
       "      <th>349</th>\n",
       "      <td>기사님을 지켜줘</td>\n",
       "      <td>100</td>\n",
       "      <td>1739</td>\n",
       "      <td>5760</td>\n",
       "      <td>[달봉]</td>\n",
       "      <td>[스토리, 판타지]</td>\n",
       "      <td>첫눈에 반한 남학생을 떠올리며 언니의 피규어 '브릭'에게 뽀뽀 연습을 하는 '예은'...</td>\n",
       "      <td>770590</td>\n",
       "      <td>9.83</td>\n",
       "      <td>[왜 우는 건지 모르겠지만, 차차 내용이 나올 거 같아서 일단 저장~☆ 이 장면은 ...</td>\n",
       "    </tr>\n",
       "    <tr>\n",
       "      <th>370</th>\n",
       "      <td>곱게 키웠더니, 짐승</td>\n",
       "      <td>100</td>\n",
       "      <td>1974</td>\n",
       "      <td>6086</td>\n",
       "      <td>[이른꽃, 티바, 여슬기]</td>\n",
       "      <td>[에피소드, 드라마]</td>\n",
       "      <td>반쪽짜리 황녀 블론디나. 외로운 그녀의 유일한 친구는 귀여운 고양이...가 아니라,...</td>\n",
       "      <td>761104</td>\n",
       "      <td>9.97</td>\n",
       "      <td>[이미지출처 : 네이버 웹툰 곱게키웠더니 짐승에서 캡쳐 환타지로맨스웹툰 곱게키웠더니...</td>\n",
       "    </tr>\n",
       "  </tbody>\n",
       "</table>\n",
       "</div>"
      ],
      "text/plain": [
       "                 title  nSearch  positive review  negative review  \\\n",
       "63   [드라마원작] 간 떨어지는 동거      100             1164             7225   \n",
       "137             좀비 파이트      100             1988             5548   \n",
       "264             방과후 선녀      100             1381             6157   \n",
       "349           기사님을 지켜줘      100             1739             5760   \n",
       "370        곱게 키웠더니, 짐승      100             1974             6086   \n",
       "\n",
       "             artist        genre  \\\n",
       "63              [나]   [스토리, 로맨스]   \n",
       "137           [이저녁]    [스토리, 액션]   \n",
       "264           [이윤후]   [스토리, 드라마]   \n",
       "349            [달봉]   [스토리, 판타지]   \n",
       "370  [이른꽃, 티바, 여슬기]  [에피소드, 드라마]   \n",
       "\n",
       "                                           description  titleID  score  \\\n",
       "63   인간이 되고자 900년간 노력해왔지만  불의의 사고로 한 여대생에게 여우구슬을 빼앗...   699415   9.97   \n",
       "137  이안은 삶이 힘들어질수록 감정을 끄며 버텨낸다.    아버지의 폭력과 빚더미 뿐인 ...   765157   9.94   \n",
       "264  \"인간의 믿음이 없으면, 우리는 존재할 수 없어.\"      신기를 타고났지만 신내...   761587   9.96   \n",
       "349  첫눈에 반한 남학생을 떠올리며 언니의 피규어 '브릭'에게 뽀뽀 연습을 하는 '예은'...   770590   9.83   \n",
       "370  반쪽짜리 황녀 블론디나. 외로운 그녀의 유일한 친구는 귀여운 고양이...가 아니라,...   761104   9.97   \n",
       "\n",
       "                                      blog_description  \n",
       "63   [드라마를 보면 볼수록 간 떨어지는 동거 원작 웹툰의 장면 연출 포인트를 잘 잡았다...  \n",
       "137  [21.3.19~ 토요웹툰 시지프스?ㅜㅜ 무력감에 빠질 때쯤, 공감 가면서도 부러운...  \n",
       "264  [웹툰 모음 신이 담긴 아이 / 내 친구는 선녀 보살 / 미래의 골동품 가게 / 바...  \n",
       "349  [왜 우는 건지 모르겠지만, 차차 내용이 나올 거 같아서 일단 저장~☆ 이 장면은 ...  \n",
       "370  [이미지출처 : 네이버 웹툰 곱게키웠더니 짐승에서 캡쳐 환타지로맨스웹툰 곱게키웠더니...  "
      ]
     },
     "execution_count": 19,
     "metadata": {},
     "output_type": "execute_result"
    }
   ],
   "source": [
    "bottom = mergeDftop[mergeDftop['positive review'] < 2000]\n",
    "bottom.head()"
   ]
  },
  {
   "cell_type": "code",
   "execution_count": 20,
   "id": "23a6f619",
   "metadata": {},
   "outputs": [],
   "source": [
    "# scoring 방법을 바꿔서 다시 시도해보았다.\n",
    "import pandas as pd\n",
    "df1 = pd.read_json('data/dataReviewScore.json', encoding = 'utf-8')\n",
    "df2 = pd.read_json('data/naverWebtoonData.json', encoding = 'utf-8')"
   ]
  },
  {
   "cell_type": "code",
   "execution_count": 22,
   "id": "db3818b1",
   "metadata": {},
   "outputs": [
    {
     "name": "stdout",
     "output_type": "stream",
     "text": [
      "527 380\n"
     ]
    }
   ],
   "source": [
    "nSearchMax = df1[df1['nSearch'] == 100]\n",
    "print(len(df1),len(nSearchMax))"
   ]
  },
  {
   "cell_type": "code",
   "execution_count": 23,
   "id": "809ae1c7",
   "metadata": {},
   "outputs": [
    {
     "data": {
      "text/html": [
       "<div>\n",
       "<style scoped>\n",
       "    .dataframe tbody tr th:only-of-type {\n",
       "        vertical-align: middle;\n",
       "    }\n",
       "\n",
       "    .dataframe tbody tr th {\n",
       "        vertical-align: top;\n",
       "    }\n",
       "\n",
       "    .dataframe thead th {\n",
       "        text-align: right;\n",
       "    }\n",
       "</style>\n",
       "<table border=\"1\" class=\"dataframe\">\n",
       "  <thead>\n",
       "    <tr style=\"text-align: right;\">\n",
       "      <th></th>\n",
       "      <th>title</th>\n",
       "      <th>nSearch</th>\n",
       "      <th>review_score</th>\n",
       "      <th>artist</th>\n",
       "      <th>genre</th>\n",
       "      <th>description</th>\n",
       "      <th>titleID</th>\n",
       "      <th>score</th>\n",
       "      <th>blog_description</th>\n",
       "    </tr>\n",
       "  </thead>\n",
       "  <tbody>\n",
       "    <tr>\n",
       "      <th>0</th>\n",
       "      <td>가비지타임</td>\n",
       "      <td>100</td>\n",
       "      <td>6367</td>\n",
       "      <td>[2사장]</td>\n",
       "      <td>[스토리, 스포츠]</td>\n",
       "      <td>열혈따윈 개나 줘.    낙오자들 뿐인 농구부의 운명은?</td>\n",
       "      <td>703844</td>\n",
       "      <td>9.96</td>\n",
       "      <td>[네이버 웹툰 &lt;가비지타임&gt; 프로필 사진. 주인공 기상호. 몇 년 전까지만 해도 잘...</td>\n",
       "    </tr>\n",
       "    <tr>\n",
       "      <th>1</th>\n",
       "      <td>겟백</td>\n",
       "      <td>100</td>\n",
       "      <td>6032</td>\n",
       "      <td>[세윤]</td>\n",
       "      <td>[에피소드, 드라마]</td>\n",
       "      <td>7년 전, 운명이 뒤바뀐 소녀들.     태어날 때 부터 타고난 능력을 지닌 다정과...</td>\n",
       "      <td>727798</td>\n",
       "      <td>9.98</td>\n",
       "      <td>[느와르 장르의 네이버 웹툰 '겟백 (Get Back)'을 소개합니다. 겟 백 ( ...</td>\n",
       "    </tr>\n",
       "  </tbody>\n",
       "</table>\n",
       "</div>"
      ],
      "text/plain": [
       "   title  nSearch  review_score artist        genre  \\\n",
       "0  가비지타임      100          6367  [2사장]   [스토리, 스포츠]   \n",
       "1     겟백      100          6032   [세윤]  [에피소드, 드라마]   \n",
       "\n",
       "                                         description  titleID  score  \\\n",
       "0                    열혈따윈 개나 줘.    낙오자들 뿐인 농구부의 운명은?   703844   9.96   \n",
       "1  7년 전, 운명이 뒤바뀐 소녀들.     태어날 때 부터 타고난 능력을 지닌 다정과...   727798   9.98   \n",
       "\n",
       "                                    blog_description  \n",
       "0  [네이버 웹툰 <가비지타임> 프로필 사진. 주인공 기상호. 몇 년 전까지만 해도 잘...  \n",
       "1  [느와르 장르의 네이버 웹툰 '겟백 (Get Back)'을 소개합니다. 겟 백 ( ...  "
      ]
     },
     "execution_count": 23,
     "metadata": {},
     "output_type": "execute_result"
    }
   ],
   "source": [
    "mergeDf = pd.merge(nSearchMax, df2, how = 'inner', on = None)\n",
    "mergeDf[:2]"
   ]
  },
  {
   "cell_type": "code",
   "execution_count": 25,
   "id": "bb7bed31",
   "metadata": {},
   "outputs": [
    {
     "data": {
      "text/plain": [
       "366"
      ]
     },
     "execution_count": 25,
     "metadata": {},
     "output_type": "execute_result"
    }
   ],
   "source": [
    "mergeDf = mergeDf[mergeDf['score'] >= 9]\n",
    "len(mergeDf)"
   ]
  },
  {
   "cell_type": "code",
   "execution_count": 26,
   "id": "e61c34bf",
   "metadata": {},
   "outputs": [
    {
     "data": {
      "image/png": "[encoded data removed]",
      "text/plain": [
       "<Figure size 432x288 with 1 Axes>"
      ]
     },
     "metadata": {
      "needs_background": "light"
     },
     "output_type": "display_data"
    }
   ],
   "source": [
    "plt.scatter(mergeDf['score'], mergeDf['review_score'])\n",
    "plt.show()"
   ]
  },
  {
   "cell_type": "code",
   "execution_count": 29,
   "id": "79dd0213",
   "metadata": {},
   "outputs": [
    {
     "data": {
      "image/png": "[encoded data removed]",
      "text/plain": [
       "<Figure size 432x288 with 1 Axes>"
      ]
     },
     "metadata": {
      "needs_background": "light"
     },
     "output_type": "display_data"
    }
   ],
   "source": [
    "plt.scatter(mergeDf['review_score'], mergeDf['score'])\n",
    "plt.show()"
   ]
  },
  {
   "cell_type": "code",
   "execution_count": 33,
   "id": "4b0fae58",
   "metadata": {},
   "outputs": [
    {
     "name": "stdout",
     "output_type": "stream",
     "text": [
      "(0.18433532414543632, 0.00039275653374574565)\n",
      "SpearmanrResult(correlation=0.2845717030188156, pvalue=3.015733949118617e-08)\n"
     ]
    }
   ],
   "source": [
    "from scipy import stats\n",
    "print(stats.pearsonr(mergeDf['review_score'], mergeDf['score']))\n",
    "print(stats.spearmanr(mergeDf['review_score'], mergeDf['score']))\n",
    "#둘다 상관계수가 너무 낮다."
   ]
  },
  {
   "cell_type": "code",
   "execution_count": 31,
   "id": "f10047c0",
   "metadata": {},
   "outputs": [
    {
     "data": {
      "text/plain": [
       "(18600.458329984802,\n",
       " 0.9138576892224614,\n",
       " 18865,\n",
       " array([[0.00273224, 0.00546448, 0.00273224, ..., 0.1010929 , 0.13934426,\n",
       "         0.10655738],\n",
       "        [0.00273224, 0.00546448, 0.00273224, ..., 0.1010929 , 0.13934426,\n",
       "         0.10655738],\n",
       "        [0.00273224, 0.00546448, 0.00273224, ..., 0.1010929 , 0.13934426,\n",
       "         0.10655738],\n",
       "        ...,\n",
       "        [0.00273224, 0.00546448, 0.00273224, ..., 0.1010929 , 0.13934426,\n",
       "         0.10655738],\n",
       "        [0.00273224, 0.00546448, 0.00273224, ..., 0.1010929 , 0.13934426,\n",
       "         0.10655738],\n",
       "        [0.00273224, 0.00546448, 0.00273224, ..., 0.1010929 , 0.13934426,\n",
       "         0.10655738]]))"
      ]
     },
     "execution_count": 31,
     "metadata": {},
     "output_type": "execute_result"
    }
   ],
   "source": [
    "from scipy.stats import chi2_contingency\n",
    "\n",
    "crosstab = pd.crosstab(mergeDf['review_score'], mergeDf['score'])\n",
    "chi2_contingency(crosstab)"
   ]
  },
  {
   "cell_type": "code",
   "execution_count": 32,
   "id": "583cab82",
   "metadata": {},
   "outputs": [
    {
     "name": "stdout",
     "output_type": "stream",
     "text": [
      "Chi2 Statistic:18600.458329984802, p-value:0.9138576892224614\n"
     ]
    }
   ],
   "source": [
    "result = chi2_contingency(crosstab)\n",
    "print('Chi2 Statistic:{}, p-value:{}'.format(result[0], result[1]))\n",
    "# p value가 너무 높아 상관관계가 없음이 나타났다."
   ]
  }
 ],
 "metadata": {
  "kernelspec": {
   "display_name": "Python 3",
   "language": "python",
   "name": "python3"
  },
  "language_info": {
   "codemirror_mode": {
    "name": "ipython",
    "version": 3
   },
   "file_extension": ".py",
   "mimetype": "text/x-python",
   "name": "python",
   "nbconvert_exporter": "python",
   "pygments_lexer": "ipython3",
   "version": "3.8.10"
  }
 },
 "nbformat": 4,
 "nbformat_minor": 5
}
